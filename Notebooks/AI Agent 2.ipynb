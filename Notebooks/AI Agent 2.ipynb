{
 "cells": [
  {
   "cell_type": "code",
   "execution_count": 17,
   "id": "c5d9e8ad-0d9c-45ad-8e81-3a9d80319cf9",
   "metadata": {},
   "outputs": [],
   "source": [
    "# Import libraries\n",
    "import pandas as pd\n",
    "import torch\n",
    "from torch.utils.data import Dataset, DataLoader\n",
    "from transformers import BertTokenizer, BertForSequenceClassification, DataCollatorWithPadding\n",
    "from torch.optim import AdamW"
   ]
  },
  {
   "cell_type": "code",
   "execution_count": 19,
   "id": "51b17692-ec18-4325-9194-9ca93d7f6fb3",
   "metadata": {},
   "outputs": [
    {
     "data": {
      "text/html": [
       "<div>\n",
       "<style scoped>\n",
       "    .dataframe tbody tr th:only-of-type {\n",
       "        vertical-align: middle;\n",
       "    }\n",
       "\n",
       "    .dataframe tbody tr th {\n",
       "        vertical-align: top;\n",
       "    }\n",
       "\n",
       "    .dataframe thead th {\n",
       "        text-align: right;\n",
       "    }\n",
       "</style>\n",
       "<table border=\"1\" class=\"dataframe\">\n",
       "  <thead>\n",
       "    <tr style=\"text-align: right;\">\n",
       "      <th></th>\n",
       "      <th>Class Index</th>\n",
       "      <th>Title</th>\n",
       "      <th>Description</th>\n",
       "      <th>desc_length</th>\n",
       "      <th>clean_desc</th>\n",
       "    </tr>\n",
       "  </thead>\n",
       "  <tbody>\n",
       "    <tr>\n",
       "      <th>0</th>\n",
       "      <td>3</td>\n",
       "      <td>BBC set for major shake-up, claims newspaper</td>\n",
       "      <td>London - The British Broadcasting Corporation,...</td>\n",
       "      <td>39</td>\n",
       "      <td>london british broadcast corpor world 39 bigge...</td>\n",
       "    </tr>\n",
       "    <tr>\n",
       "      <th>1</th>\n",
       "      <td>3</td>\n",
       "      <td>Marsh averts cash crunch</td>\n",
       "      <td>Embattled insurance broker #39;s banks agree t...</td>\n",
       "      <td>24</td>\n",
       "      <td>embattl insur broker 39 bank agre waiv claus m...</td>\n",
       "    </tr>\n",
       "    <tr>\n",
       "      <th>2</th>\n",
       "      <td>2</td>\n",
       "      <td>Jeter, Yankees Look to Take Control (AP)</td>\n",
       "      <td>AP - Derek Jeter turned a season that started ...</td>\n",
       "      <td>23</td>\n",
       "      <td>ap derek jeter turn season start terribl slump...</td>\n",
       "    </tr>\n",
       "    <tr>\n",
       "      <th>3</th>\n",
       "      <td>4</td>\n",
       "      <td>Flying the Sun to Safety</td>\n",
       "      <td>When the Genesis capsule comes back to Earth w...</td>\n",
       "      <td>29</td>\n",
       "      <td>genesi capsul come back earth sampl sun helico...</td>\n",
       "    </tr>\n",
       "    <tr>\n",
       "      <th>4</th>\n",
       "      <td>3</td>\n",
       "      <td>Stocks Seen Flat as Nortel and Oil Weigh</td>\n",
       "      <td>NEW YORK (Reuters) - U.S. stocks were set to ...</td>\n",
       "      <td>37</td>\n",
       "      <td>new york reuter us stock set open near unchang...</td>\n",
       "    </tr>\n",
       "  </tbody>\n",
       "</table>\n",
       "</div>"
      ],
      "text/plain": [
       "   Class Index                                         Title  \\\n",
       "0            3  BBC set for major shake-up, claims newspaper   \n",
       "1            3                      Marsh averts cash crunch   \n",
       "2            2      Jeter, Yankees Look to Take Control (AP)   \n",
       "3            4                      Flying the Sun to Safety   \n",
       "4            3      Stocks Seen Flat as Nortel and Oil Weigh   \n",
       "\n",
       "                                         Description  desc_length  \\\n",
       "0  London - The British Broadcasting Corporation,...           39   \n",
       "1  Embattled insurance broker #39;s banks agree t...           24   \n",
       "2  AP - Derek Jeter turned a season that started ...           23   \n",
       "3  When the Genesis capsule comes back to Earth w...           29   \n",
       "4   NEW YORK (Reuters) - U.S. stocks were set to ...           37   \n",
       "\n",
       "                                          clean_desc  \n",
       "0  london british broadcast corpor world 39 bigge...  \n",
       "1  embattl insur broker 39 bank agre waiv claus m...  \n",
       "2  ap derek jeter turn season start terribl slump...  \n",
       "3  genesi capsul come back earth sampl sun helico...  \n",
       "4  new york reuter us stock set open near unchang...  "
      ]
     },
     "execution_count": 19,
     "metadata": {},
     "output_type": "execute_result"
    }
   ],
   "source": [
    "df = pd.read_csv(\"sample_data.csv\")\n",
    "df.head()"
   ]
  },
  {
   "cell_type": "code",
   "execution_count": 21,
   "id": "70359d37-daf5-4af9-b3ac-6916202ac71d",
   "metadata": {},
   "outputs": [],
   "source": [
    "# Tokenizer setup\n",
    "# Initialize BERT tokenizer\n",
    "tokenizer = BertTokenizer.from_pretrained('bert-base-uncased')"
   ]
  },
  {
   "cell_type": "code",
   "execution_count": 23,
   "id": "daa7cdff-cba2-42ac-a798-c0e5a5d54cc3",
   "metadata": {},
   "outputs": [],
   "source": [
    "# Dataset + Dataloader\n",
    "class NewsDataset(Dataset):\n",
    "    def __init__(self, texts, labels):\n",
    "        self.encodings = tokenizer(texts, truncation=True, padding=True)\n",
    "        self.labels = labels\n",
    "\n",
    "    def __getitem__(self, idx):\n",
    "        item = {key: torch.tensor(val[idx]) for key, val in self.encodings.items()}\n",
    "        item['labels'] = torch.tensor(self.labels[idx])\n",
    "        return item\n",
    "\n",
    "    def __len__(self):\n",
    "        return len(self.labels)\n",
    "\n",
    "# Prepare data\n",
    "texts = df['Description'].tolist()\n",
    "labels = df['Title'].tolist()\n",
    "\n",
    "# Create dataset and DataLoader\n",
    "dataset = NewsDataset(texts, labels)\n",
    "data_collator = DataCollatorWithPadding(tokenizer=tokenizer)\n",
    "train_loader = DataLoader(dataset, batch_size=16, shuffle=True, collate_fn=data_collator)\n"
   ]
  },
  {
   "cell_type": "code",
   "execution_count": 25,
   "id": "0290652d-bbdf-404a-98da-07278034e188",
   "metadata": {},
   "outputs": [
    {
     "name": "stderr",
     "output_type": "stream",
     "text": [
      "Some weights of BertForSequenceClassification were not initialized from the model checkpoint at bert-base-uncased and are newly initialized: ['classifier.bias', 'classifier.weight']\n",
      "You should probably TRAIN this model on a down-stream task to be able to use it for predictions and inference.\n"
     ]
    }
   ],
   "source": [
    "# Model + Optimizer Setup\n",
    "\n",
    "# Initialize model\n",
    "model = BertForSequenceClassification.from_pretrained('bert-base-uncased', num_labels=2)\n",
    "\n",
    "# Optimizer\n",
    "optimizer = AdamW(model.parameters(), lr=5e-5)"
   ]
  },
  {
   "cell_type": "code",
   "execution_count": null,
   "id": "444084f7-66cb-412a-a8b9-5cd965d705bc",
   "metadata": {},
   "outputs": [],
   "source": [
    "# Training loop\n",
    "\n",
    "# Set model to training mode\n",
    "model.train()\n",
    "\n",
    "for epoch in range(1):  # Set to more epochs if needed\n",
    "    for batch in train_loader:\n",
    "        optimizer.zero_grad()\n",
    "        input_ids = batch['input_ids']\n",
    "        attention_mask = batch['attention_mask']\n",
    "        labels = batch['Title']\n",
    "        \n",
    "        outputs = model(input_ids, attention_mask=attention_mask, labels=labels)\n",
    "        loss = outputs.loss\n",
    "        loss.backward()\n",
    "        optimizer.step()\n",
    "\n",
    "        print(f\"Loss: {loss.item()}\")"
   ]
  },
  {
   "cell_type": "code",
   "execution_count": 29,
   "id": "afb6be09-8c5d-4fd4-ab83-22150ea8f7cc",
   "metadata": {},
   "outputs": [
    {
     "name": "stdout",
     "output_type": "stream",
     "text": [
      "Model saved to 'fine_tuned_bert'\n"
     ]
    }
   ],
   "source": [
    "# Save Fine-Tuned model and tokenizer\n",
    "\n",
    "model.save_pretrained('fine_tuned_bert')\n",
    "tokenizer.save_pretrained('fine_tuned_bert')\n",
    "print(\"Model saved to 'fine_tuned_bert'\")"
   ]
  },
  {
   "cell_type": "code",
   "execution_count": null,
   "id": "e25e33c0-f2a3-44b5-a6aa-611b5c6bd07d",
   "metadata": {},
   "outputs": [],
   "source": []
  }
 ],
 "metadata": {
  "kernelspec": {
   "display_name": "Python [conda env:base]",
   "language": "python",
   "name": "conda-base-py"
  },
  "language_info": {
   "codemirror_mode": {
    "name": "ipython",
    "version": 3
   },
   "file_extension": ".py",
   "mimetype": "text/x-python",
   "name": "python",
   "nbconvert_exporter": "python",
   "pygments_lexer": "ipython3",
   "version": "3.12.7"
  }
 },
 "nbformat": 4,
 "nbformat_minor": 5
}
